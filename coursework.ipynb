{
 "cells": [
  {
   "cell_type": "markdown",
   "source": [
    "# Big Data in Finance II  Group Assignment"
   ],
   "metadata": {
    "collapsed": false
   },
   "id": "d6e0f590b58e58b5"
  },
  {
   "cell_type": "markdown",
   "source": [
    "Question1.\tIn the data used by Gu, Kelly and Xiu (RFS 2019 – provided in class), use a similar procedure to theirs to predict stock returns with neural networks. Start by finding a suitable baseline configuration, and use a validation procedure to pick optimal hyperparameters for three neural network models: One with 2 hidden layers, one with 3 hidden layers, and one with 4 hidden layers."
   ],
   "metadata": {
    "collapsed": false
   },
   "id": "ece920b5884e5aa3"
  },
  {
   "cell_type": "code",
   "execution_count": null,
   "outputs": [],
   "source": [],
   "metadata": {
    "collapsed": false,
    "ExecuteTime": {
     "end_time": "2024-05-16T14:42:47.325592600Z",
     "start_time": "2024-05-16T14:42:47.317594200Z"
    }
   },
   "id": "2346ab6b1bc19c07"
  },
  {
   "cell_type": "markdown",
   "source": [
    "Write the analysis here."
   ],
   "metadata": {
    "collapsed": false
   },
   "id": "df5d04beee3f0883"
  },
  {
   "cell_type": "markdown",
   "source": [
    "Question2.\tUse test data to get an idea of the out of sample performance of each model. Convert the standard MSE metric for out of sample performance to the “R2 out of sample” metric that was discussed in class. Compare your results to those in Gu-Kelly-Xiu and comment on the differences. "
   ],
   "metadata": {
    "collapsed": false
   },
   "id": "23661be82e6d6efd"
  },
  {
   "cell_type": "code",
   "execution_count": null,
   "outputs": [],
   "source": [],
   "metadata": {
    "collapsed": false,
    "ExecuteTime": {
     "end_time": "2024-05-16T14:42:48.364810100Z",
     "start_time": "2024-05-16T14:42:48.351682800Z"
    }
   },
   "id": "39b7053c70a71b1c"
  },
  {
   "cell_type": "markdown",
   "source": [
    "Write the analysis here."
   ],
   "metadata": {
    "collapsed": false
   },
   "id": "9ac1d3e5e7065a8f"
  },
  {
   "cell_type": "markdown",
   "source": [
    "Question3.\tPick the model that performs the best out of sample, and interpret its output by doing the following analysis of variable importance:\n",
    "\n",
    " a.\tFirst, for all stock characteristics, get variable importance by setting one predictor at a time to zero and finding the decrease in out of sample R2. Show a table of the 10 most important variables according to this measure, and give an economic interpretation. \n",
    "    \n",
    " b.\tSecond, get a measure of the joint importance of all our “macro predictors” (i.e., those taken from Welch and Goyal 2008), by setting them all to zero and finding the decrease in out of sample R2. Comment on how important macroeconomic variables are relative to stock characteristics in predicting returns. \n",
    " \n",
    " c.\tRepeat the two steps above, but by using a measure of the sensitivity of predictions to each input variable, as outlined in the lectures.\n"
   ],
   "metadata": {
    "collapsed": false
   },
   "id": "8ec9178d01cdd48b"
  },
  {
   "cell_type": "code",
   "execution_count": null,
   "outputs": [],
   "source": [],
   "metadata": {
    "collapsed": false,
    "ExecuteTime": {
     "end_time": "2024-05-16T14:42:49.053316300Z",
     "start_time": "2024-05-16T14:42:49.025309800Z"
    }
   },
   "id": "fc6a49d66d139ce2"
  },
  {
   "cell_type": "markdown",
   "source": [
    "Write the analysis here."
   ],
   "metadata": {
    "collapsed": false
   },
   "id": "69a805ba0e51a224"
  },
  {
   "cell_type": "markdown",
   "source": [
    "Question4.\tFit a penalised linear model (LASSO) to the same data, using validation data to pick the best penalty (e.g., you can use the “sklearn” package in Python to do this easily). Compare its test data performance to the neural network. "
   ],
   "metadata": {
    "collapsed": false
   },
   "id": "49fef10cff6c665b"
  },
  {
   "cell_type": "code",
   "execution_count": null,
   "outputs": [],
   "source": [],
   "metadata": {
    "collapsed": false,
    "ExecuteTime": {
     "end_time": "2024-05-16T14:42:49.697373800Z",
     "start_time": "2024-05-16T14:42:49.684375300Z"
    }
   },
   "id": "6ad3a77dc3734b9a"
  },
  {
   "cell_type": "markdown",
   "source": [
    "Write the analysis here."
   ],
   "metadata": {
    "collapsed": false
   },
   "id": "494f1307303b57a8"
  },
  {
   "cell_type": "markdown",
   "source": [
    "Question5.\tSuppose somebody tells you to collect 10 more micro or macro variables that can predict returns and are not in our current dataset. How would you choose those variables, based on the intuitions you have gained in this project?"
   ],
   "metadata": {
    "collapsed": false
   },
   "id": "798e7a758c84badd"
  },
  {
   "cell_type": "code",
   "execution_count": null,
   "outputs": [],
   "source": [],
   "metadata": {
    "collapsed": false,
    "ExecuteTime": {
     "end_time": "2024-05-16T14:42:50.684275500Z",
     "start_time": "2024-05-16T14:42:50.672255500Z"
    }
   },
   "id": "827f740a5f139314"
  },
  {
   "cell_type": "markdown",
   "source": [
    "Write the analysis here."
   ],
   "metadata": {
    "collapsed": false
   },
   "id": "709d2c66bed22f34"
  }
 ],
 "metadata": {
  "kernelspec": {
   "display_name": "Python 3",
   "language": "python",
   "name": "python3"
  },
  "language_info": {
   "codemirror_mode": {
    "name": "ipython",
    "version": 2
   },
   "file_extension": ".py",
   "mimetype": "text/x-python",
   "name": "python",
   "nbconvert_exporter": "python",
   "pygments_lexer": "ipython2",
   "version": "2.7.6"
  }
 },
 "nbformat": 4,
 "nbformat_minor": 5
}
